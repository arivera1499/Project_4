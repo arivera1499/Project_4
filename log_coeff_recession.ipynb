{
 "cells": [
  {
   "cell_type": "code",
   "execution_count": 2,
   "id": "1ea40daa-2bf7-48b8-aafa-35d394de7e34",
   "metadata": {},
   "outputs": [
    {
     "name": "stdout",
     "output_type": "stream",
     "text": [
      "                   Beta\n",
      "Intercept     -2.624680\n",
      "Price_x       -1.592147\n",
      "INDPRO        -0.418250\n",
      "CPI            0.206246\n",
      "3 Mo          -0.230349\n",
      "4 Mo          -0.121164\n",
      "6 Mo          -0.293235\n",
      "1 Yr          -0.333512\n",
      "2 Yr          -0.290137\n",
      "3 Yr          -0.248611\n",
      "5 Yr          -0.106690\n",
      "7 Yr           0.077335\n",
      "10 Yr          0.397243\n",
      "20 Yr         -0.365976\n",
      "30 Yr          0.247132\n",
      "GDP           -0.235949\n",
      "Rate           1.119117\n",
      "BBK_Index      0.874357\n",
      "Housing_Index  1.723402\n"
     ]
    }
   ],
   "source": [
    "import pandas as pd\n",
    "from sklearn.model_selection import train_test_split\n",
    "from sklearn.preprocessing import StandardScaler\n",
    "from sklearn.linear_model import LogisticRegression\n",
    "\n",
    "# Step 1: Load and preprocess the data\n",
    "df = pd.read_csv('archive/US_Recession.csv')\n",
    "\n",
    "# Drop the 'Unnamed: 0' column\n",
    "df.drop(columns=['Unnamed: 0'], inplace=True)\n",
    "\n",
    "# Handle missing values (if any)\n",
    "df.dropna(inplace=True)\n",
    "\n",
    "# Separate predictors (X) and target variable (y)\n",
    "X = df.drop(columns=['Recession'])  # Predictor variables\n",
    "y = df['Recession']  # Target variable\n",
    "\n",
    "# Feature scaling\n",
    "scaler = StandardScaler()\n",
    "X_scaled = scaler.fit_transform(X)\n",
    "\n",
    "# Step 2: Train-Test Split\n",
    "X_train, X_test, y_train, y_test = train_test_split(X_scaled, y, test_size=0.3, random_state=42)\n",
    "\n",
    "# Step 3: Train the Logistic Regression Model\n",
    "logistic_model = LogisticRegression()\n",
    "logistic_model.fit(X_train, y_train)\n",
    "\n",
    "# Step 4: Extract the Coefficients (Beta Values)\n",
    "intercept = logistic_model.intercept_[0]  # Intercept (beta_0)\n",
    "coefficients = logistic_model.coef_[0]    # Coefficients (beta_1, beta_2, ..., beta_n)\n",
    "\n",
    "# Combine intercept and coefficients with feature names\n",
    "feature_names = ['Intercept'] + list(df.drop(columns=['Recession']).columns)\n",
    "beta_values = [intercept] + list(coefficients)\n",
    "\n",
    "# Create a DataFrame to display the beta values\n",
    "beta_df = pd.DataFrame(beta_values, index=feature_names, columns=['Beta'])\n",
    "print(beta_df)\n"
   ]
  }
 ],
 "metadata": {
  "kernelspec": {
   "display_name": "Python 3 (ipykernel)",
   "language": "python",
   "name": "python3"
  },
  "language_info": {
   "codemirror_mode": {
    "name": "ipython",
    "version": 3
   },
   "file_extension": ".py",
   "mimetype": "text/x-python",
   "name": "python",
   "nbconvert_exporter": "python",
   "pygments_lexer": "ipython3",
   "version": "3.11.5"
  }
 },
 "nbformat": 4,
 "nbformat_minor": 5
}
