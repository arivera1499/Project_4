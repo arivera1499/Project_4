{
 "cells": [
  {
   "cell_type": "code",
   "execution_count": 1,
   "id": "1ea40daa-2bf7-48b8-aafa-35d394de7e34",
   "metadata": {},
   "outputs": [
    {
     "name": "stdout",
     "output_type": "stream",
     "text": [
      "                     Beta\n",
      "Intercept        2.044517\n",
      "Sex_female       1.131466\n",
      "Cabin_B96 B98    0.304107\n",
      "Ticket_113760    0.304107\n",
      "Ticket_PC 17755  0.287737\n",
      "Cabin_C70        0.265370\n",
      "Ticket_PP 9549   0.241933\n",
      "Cabin_E25        0.237836\n",
      "Cabin_A23        0.226200\n",
      "Ticket_27042     0.226200\n",
      "                     Beta\n",
      "Sex_male        -1.131466\n",
      "Age             -0.667364\n",
      "Ticket_347054   -0.585867\n",
      "Ticket_113781   -0.524039\n",
      "Cabin_C22 C26   -0.524039\n",
      "Parch           -0.338028\n",
      "Ticket_695      -0.291593\n",
      "Ticket_PC 17758 -0.258205\n",
      "Cabin_C65       -0.258205\n",
      "Cabin_E77       -0.257813\n"
     ]
    }
   ],
   "source": [
    "import pandas as pd\n",
    "from sklearn.model_selection import train_test_split\n",
    "from sklearn.preprocessing import StandardScaler\n",
    "from sklearn.linear_model import LogisticRegression\n",
    "\n",
    "# Step 1: Load and preprocess the data\n",
    "df = pd.read_csv('titanic/train.csv')\n",
    "\n",
    "# Drop the 'Unnamed: 0' column\n",
    "df.drop(columns=['Name', \"PassengerId\"], inplace=True)\n",
    "\n",
    "# Handle missing values (if any)\n",
    "df.dropna(inplace=True)\n",
    "df = pd.get_dummies(df)\n",
    "df = df.astype(int)\n",
    "\n",
    "# Separate predictors (X) and target variable (y)\n",
    "X = df.drop(columns=['Survived'])  # Predictors\n",
    "y = df['Survived']  # Target variable\n",
    "\n",
    "\n",
    "# Feature scaling\n",
    "scaler = StandardScaler()\n",
    "X_scaled = scaler.fit_transform(X)\n",
    "\n",
    "# Step 2: Train-Test Split\n",
    "X_train, X_test, y_train, y_test = train_test_split(X_scaled, y, test_size=0.3, random_state=42)\n",
    "\n",
    "# Step 3: Train the Logistic Regression Model\n",
    "logistic_model = LogisticRegression()\n",
    "logistic_model.fit(X_train, y_train)\n",
    "\n",
    "# Step 4: Extract the Coefficients (Beta Values)\n",
    "intercept = logistic_model.intercept_[0]  # Intercept (beta_0)\n",
    "coefficients = logistic_model.coef_[0]    # Coefficients (beta_1, beta_2, ..., beta_n)\n",
    "\n",
    "# Combine intercept and coefficients with feature names\n",
    "feature_names = ['Intercept'] + list(df.drop(columns=['Survived']).columns)\n",
    "beta_values = [intercept] + list(coefficients)\n",
    "\n",
    "# Create a DataFrame to display the beta values\n",
    "if len(beta_values) == len(feature_names):\n",
    "    beta_df = pd.DataFrame(beta_values, index=feature_names, columns=['Beta'])\n",
    "    beta_df_sorted_ascending = beta_df.sort_values(by='Beta', ascending=False)\n",
    "    beta_df_sorted_descending = beta_df.sort_values(by='Beta', ascending=True)\n",
    "    print(beta_df_sorted_ascending.head(10))\n",
    "    print(beta_df_sorted_descending.head(10))\n",
    "\n",
    "else:\n",
    "    print(\"Mismatch in the length of feature names and beta values.\")\n",
    "    print(f\"Feature names: {len(feature_names)}, Beta values: {len(beta_values)}\")\n",
    "    print(feature_names)\n",
    "    print(X)\n"
   ]
  }
 ],
 "metadata": {
  "kernelspec": {
   "display_name": "Python 3 (ipykernel)",
   "language": "python",
   "name": "python3"
  },
  "language_info": {
   "codemirror_mode": {
    "name": "ipython",
    "version": 3
   },
   "file_extension": ".py",
   "mimetype": "text/x-python",
   "name": "python",
   "nbconvert_exporter": "python",
   "pygments_lexer": "ipython3",
   "version": "3.10.14"
  }
 },
 "nbformat": 4,
 "nbformat_minor": 5
}
